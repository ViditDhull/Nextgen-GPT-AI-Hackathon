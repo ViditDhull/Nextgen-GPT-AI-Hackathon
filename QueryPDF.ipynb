{
 "cells": [
  {
   "cell_type": "code",
   "execution_count": 15,
   "id": "648978bc-7021-4a1d-a7a4-69ca012ec0ce",
   "metadata": {},
   "outputs": [],
   "source": [
    "import warnings\n",
    "warnings.filterwarnings(\"ignore\")"
   ]
  },
  {
   "cell_type": "code",
   "execution_count": 2,
   "id": "bc520e6c-f483-4a7f-b3cf-38db37880158",
   "metadata": {},
   "outputs": [
    {
     "name": "stdin",
     "output_type": "stream",
     "text": [
      " ········\n"
     ]
    }
   ],
   "source": [
    "from getpass import getpass\n",
    "\n",
    "CLARIFAI_PAT = getpass()"
   ]
  },
  {
   "cell_type": "code",
   "execution_count": 3,
   "id": "bdb7b831-8e03-4938-a048-3e7f264dc272",
   "metadata": {},
   "outputs": [],
   "source": [
    "from PyPDF2 import PdfReader\n",
    "from langchain.text_splitter import RecursiveCharacterTextSplitter\n",
    "from langchain.vectorstores import Clarifai"
   ]
  },
  {
   "cell_type": "code",
   "execution_count": 4,
   "id": "fa69c28f-e887-4157-b6a7-bd85c540c7d8",
   "metadata": {},
   "outputs": [],
   "source": [
    "pdf = open('Resume_Vidit_Dhull.pdf', 'rb')"
   ]
  },
  {
   "cell_type": "code",
   "execution_count": 5,
   "id": "9f21bf9d-a961-4e9e-9294-b881a1f6e6b9",
   "metadata": {},
   "outputs": [],
   "source": [
    "pdf_reader = PdfReader(pdf)"
   ]
  },
  {
   "cell_type": "code",
   "execution_count": 6,
   "id": "5966da84-f6bd-4af9-84e4-b59adaaa0a20",
   "metadata": {},
   "outputs": [],
   "source": [
    "text = \"\"\n",
    "for page in pdf_reader.pages:\n",
    "    text += page.extract_text()\n",
    "\n",
    "text_splitter = RecursiveCharacterTextSplitter(\n",
    "            chunk_size=1000,\n",
    "            chunk_overlap=200,\n",
    "            length_function=len\n",
    "        )\n",
    "chunks = text_splitter.split_text(text=text)"
   ]
  },
  {
   "cell_type": "code",
   "execution_count": 7,
   "id": "573521c9-79d0-4f85-8697-3338e55cd9df",
   "metadata": {},
   "outputs": [
    {
     "data": {
      "text/plain": [
       "'Vidit Dhull  \\nVyalikaval HBCS Layout,  \\nNagavara , Bengaluru , \\nKarnataka 560045  \\n \\nCell: 93555 12200  \\nEmail:  vidit.dh @gmail.com  \\nGitHub:  https://github.com/ViditDhull  \\nLinkedIn:  https://www. linkedin.com/in/vidit -dhull-045665236/  \\n  \\nSummary  \\n \\n● Stood First at CDAC -Bengaluru in Post-Graduation Diploma (Big Data \\nAnalytics)  \\n● Scored 320 out of 340 in GRE; 168/170 and 152/170 in Quantitative and \\nVerbal Section respectivel y \\n● Strong communication skills and can work well in a team  \\n \\nEDUCATION  \\n \\n● PG-Diploma (Big Data Analytics), CDAC -Bengaluru, March -2023, 82%  \\n● B. Tech (Computer Sciences), UIET-MDU, Rohtak, 2018 -2022, 69%  \\n● 12th Standard (Non -Medical) , CBSE, 2017, 83%  \\n● 10th Standard , CBSE, 2015, 9.4 CGPA  \\n \\nExperience  \\n \\n● Alstom Bengaluru  \\n(31 March, 2023 - Present)  \\n \\nSKILLS/COMPUTER PROFICIENCY  \\n \\n● Programming Language: Python, Core Java, SQL  \\n● Version Control System: git and GitHub  \\n● Database: MySQL, Oracle Data  Base'"
      ]
     },
     "execution_count": 7,
     "metadata": {},
     "output_type": "execute_result"
    }
   ],
   "source": [
    "chunks[0]"
   ]
  },
  {
   "cell_type": "code",
   "execution_count": 8,
   "id": "14ffa9c0-fdb4-4ece-b7b8-5a20297e2910",
   "metadata": {},
   "outputs": [],
   "source": [
    "USER_ID = 'vidit_dhull'\n",
    "APP_ID = 'QueryPDF'"
   ]
  },
  {
   "cell_type": "code",
   "execution_count": 9,
   "id": "4cb7df35-a7be-4276-ada9-55d4ecc06959",
   "metadata": {},
   "outputs": [
    {
     "name": "stdout",
     "output_type": "stream",
     "text": [
      "env: CLARIFAI_PAT=YOUR_PAT\n"
     ]
    }
   ],
   "source": [
    "%env CLARIFAI_PAT = YOUR_PAT"
   ]
  },
  {
   "cell_type": "code",
   "execution_count": 10,
   "id": "c2344c07-dc88-4e9e-a199-e9a92f5d6728",
   "metadata": {},
   "outputs": [
    {
     "data": {
      "text/html": [
       "<pre style=\"white-space:pre;overflow-x:auto;line-height:normal;font-family:Menlo,'DejaVu Sans Mono',consolas,'Courier New',monospace\"><span style=\"color: #7fbfbf; text-decoration-color: #7fbfbf\">2024-01-20 13:00:01 </span><span style=\"color: #000080; text-decoration-color: #000080\">INFO    </span> INFO:clarifai.client.input:                                               <a href=\"file://C:\\Users\\vidit\\anaconda3\\envs\\work\\lib\\site-packages\\clarifai\\client\\input.py\" target=\"_blank\"><span style=\"color: #7f7f7f; text-decoration-color: #7f7f7f\">input.py</span></a><span style=\"color: #7f7f7f; text-decoration-color: #7f7f7f\">:</span><a href=\"file://C:\\Users\\vidit\\anaconda3\\envs\\work\\lib\\site-packages\\clarifai\\client\\input.py#629\" target=\"_blank\"><span style=\"color: #7f7f7f; text-decoration-color: #7f7f7f\">629</span></a>\n",
       "<span style=\"color: #7fbfbf; text-decoration-color: #7fbfbf\">                    </span>         Inputs Uploaded                                                           <span style=\"color: #7f7f7f; text-decoration-color: #7f7f7f\">            </span>\n",
       "<span style=\"color: #7fbfbf; text-decoration-color: #7fbfbf\">                    </span>         code: SUCCESS                                                             <span style=\"color: #7f7f7f; text-decoration-color: #7f7f7f\">            </span>\n",
       "<span style=\"color: #7fbfbf; text-decoration-color: #7fbfbf\">                    </span>         description: <span style=\"color: #008000; text-decoration-color: #008000\">\"Ok\"</span>                                                         <span style=\"color: #7f7f7f; text-decoration-color: #7f7f7f\">            </span>\n",
       "<span style=\"color: #7fbfbf; text-decoration-color: #7fbfbf\">                    </span>         details: <span style=\"color: #008000; text-decoration-color: #008000\">\"All inputs successfully added\"</span>                                  <span style=\"color: #7f7f7f; text-decoration-color: #7f7f7f\">            </span>\n",
       "<span style=\"color: #7fbfbf; text-decoration-color: #7fbfbf\">                    </span>         req_id: <span style=\"color: #008000; text-decoration-color: #008000\">\"9564a488d23abde0bda833f9f8458f0f\"</span>                                <span style=\"color: #7f7f7f; text-decoration-color: #7f7f7f\">            </span>\n",
       "<span style=\"color: #7fbfbf; text-decoration-color: #7fbfbf\">                    </span>                                                                                   <span style=\"color: #7f7f7f; text-decoration-color: #7f7f7f\">            </span>\n",
       "</pre>\n"
      ],
      "text/plain": [
       "\u001b[2;36m2024-01-20 13:00:01\u001b[0m\u001b[2;36m \u001b[0m\u001b[34mINFO    \u001b[0m INFO:clarifai.client.input:                                               \u001b]8;id=23615;file://C:\\Users\\vidit\\anaconda3\\envs\\work\\lib\\site-packages\\clarifai\\client\\input.py\u001b\\\u001b[2minput.py\u001b[0m\u001b]8;;\u001b\\\u001b[2m:\u001b[0m\u001b]8;id=955600;file://C:\\Users\\vidit\\anaconda3\\envs\\work\\lib\\site-packages\\clarifai\\client\\input.py#629\u001b\\\u001b[2m629\u001b[0m\u001b]8;;\u001b\\\n",
       "\u001b[2;36m                    \u001b[0m         Inputs Uploaded                                                           \u001b[2m            \u001b[0m\n",
       "\u001b[2;36m                    \u001b[0m         code: SUCCESS                                                             \u001b[2m            \u001b[0m\n",
       "\u001b[2;36m                    \u001b[0m         description: \u001b[32m\"Ok\"\u001b[0m                                                         \u001b[2m            \u001b[0m\n",
       "\u001b[2;36m                    \u001b[0m         details: \u001b[32m\"All inputs successfully added\"\u001b[0m                                  \u001b[2m            \u001b[0m\n",
       "\u001b[2;36m                    \u001b[0m         req_id: \u001b[32m\"9564a488d23abde0bda833f9f8458f0f\"\u001b[0m                                \u001b[2m            \u001b[0m\n",
       "\u001b[2;36m                    \u001b[0m                                                                                   \u001b[2m            \u001b[0m\n"
      ]
     },
     "metadata": {},
     "output_type": "display_data"
    }
   ],
   "source": [
    "clarifai_vector_db = Clarifai.from_texts(\n",
    "    user_id=USER_ID,\n",
    "    app_id=APP_ID,\n",
    "    texts=chunks,\n",
    "    pat=CLARIFAI_PAT,\n",
    ")"
   ]
  },
  {
   "cell_type": "code",
   "execution_count": 11,
   "id": "ea9eb324-01b0-4741-891f-c7e9adc40a79",
   "metadata": {},
   "outputs": [
    {
     "name": "stdout",
     "output_type": "stream",
     "text": [
      "[Document(page_content='Vidit Dhull  \\nVyalikaval HBCS Layout,  \\nNagavara , Bengaluru , \\nKarnataka 560045  \\n \\nCell: 93555 12200  \\nEmail:  vidit.dh @gmail.com  \\nGitHub:  https://github.com/ViditDhull  \\nLinkedIn:  https://www. linkedin.com/in/vidit -dhull-045665236/  \\n  \\nSummary  \\n \\n● Stood First at CDAC -Bengaluru in Post-Graduation Diploma (Big Data \\nAnalytics)  \\n● Scored 320 out of 340 in GRE; 168/170 and 152/170 in Quantitative and \\nVerbal Section respectivel y \\n● Strong communication skills and can work well in a team  \\n \\nEDUCATION  \\n \\n● PG-Diploma (Big Data Analytics), CDAC -Bengaluru, March -2023, 82%  \\n● B. Tech (Computer Sciences), UIET-MDU, Rohtak, 2018 -2022, 69%  \\n● 12th Standard (Non -Medical) , CBSE, 2017, 83%  \\n● 10th Standard , CBSE, 2015, 9.4 CGPA  \\n \\nExperience  \\n \\n● Alstom Bengaluru  \\n(31 March, 2023 - Present)  \\n \\nSKILLS/COMPUTER PROFICIENCY  \\n \\n● Programming Language: Python, Core Java, SQL  \\n● Version Control System: git and GitHub  \\n● Database: MySQL, Oracle Data  Base'), Document(page_content='Vidit Dhull  \\nVyalikaval HBCS Layout,  \\nNagavara , Bengaluru , \\nKarnataka 560045  \\n \\nCell: 93555 12200  \\nEmail:  vidit.dh @gmail.com  \\nGitHub:  https://github.com/ViditDhull  \\nLinkedIn:  https://www. linkedin.com/in/vidit -dhull-045665236/  \\n  \\nSummary  \\n \\n● Stood First at CDAC -Bengaluru in Post-Graduation Diploma (Big Data \\nAnalytics)  \\n● Scored 320 out of 340 in GRE; 168/170 and 152/170 in Quantitative and \\nVerbal Section respectivel y \\n● Strong communication skills and can work well in a team  \\n \\nEDUCATION  \\n \\n● PG-Diploma (Big Data Analytics), CDAC -Bengaluru, March -2023, 82%  \\n● B. Tech (Computer Sciences), UIET-MDU, Rohtak, 2018 -2022, 69%  \\n● 12th Standard (Non -Medical) , CBSE, 2017, 83%  \\n● 10th Standard , CBSE, 2015, 9.4 CGPA  \\n \\nExperience  \\n \\n● Alstom Bengaluru  \\n(31 March, 2023 - Present)  \\n \\nSKILLS/COMPUTER PROFICIENCY  \\n \\n● Programming Language: Python, Core Java, SQL  \\n● Version Control System: git and GitHub  \\n● Database: MySQL, Oracle Data  Base'), Document(page_content='Vidit Dhull  \\nVyalikaval HBCS Layout,  \\nNagavara , Bengaluru , \\nKarnataka 560045  \\n \\nCell: 93555 12200  \\nEmail:  vidit.dh @gmail.com  \\nGitHub:  https://github.com/ViditDhull  \\nLinkedIn:  https://www. linkedin.com/in/vidit -dhull-045665236/  \\n  \\nSummary  \\n \\n● Stood First at CDAC -Bengaluru in Post-Graduation Diploma (Big Data \\nAnalytics)  \\n● Scored 320 out of 340 in GRE; 168/170 and 152/170 in Quantitative and \\nVerbal Section respectivel y \\n● Strong communication skills and can work well in a team  \\n \\nEDUCATION  \\n \\n● PG-Diploma (Big Data Analytics), CDAC -Bengaluru, March -2023, 82%  \\n● B. Tech (Computer Sciences), UIET-MDU, Rohtak, 2018 -2022, 69%  \\n● 12th Standard (Non -Medical) , CBSE, 2017, 83%  \\n● 10th Standard , CBSE, 2015, 9.4 CGPA  \\n \\nExperience  \\n \\n● Alstom Bengaluru  \\n(31 March, 2023 - Present)  \\n \\nSKILLS/COMPUTER PROFICIENCY  \\n \\n● Programming Language: Python, Core Java, SQL  \\n● Version Control System: git and GitHub  \\n● Database: MySQL, Oracle Data  Base'), Document(page_content='Vidit Dhull  \\nVyalikaval HBCS Layout,  \\nNagavara , Bengaluru , \\nKarnataka 560045  \\n \\nCell: 93555 12200  \\nEmail:  vidit.dh @gmail.com  \\nGitHub:  https://github.com/ViditDhull  \\nLinkedIn:  https://www. linkedin.com/in/vidit -dhull-045665236/  \\n  \\nSummary  \\n \\n● Stood First at CDAC -Bengaluru in Post-Graduation Diploma (Big Data \\nAnalytics)  \\n● Scored 320 out of 340 in GRE; 168/170 and 152/170 in Quantitative and \\nVerbal Section respectivel y \\n● Strong communication skills and can work well in a team  \\n \\nEDUCATION  \\n \\n● PG-Diploma (Big Data Analytics), CDAC -Bengaluru, March -2023, 82%  \\n● B. Tech (Computer Sciences), UIET-MDU, Rohtak, 2018 -2022, 69%  \\n● 12th Standard (Non -Medical) , CBSE, 2017, 83%  \\n● 10th Standard , CBSE, 2015, 9.4 CGPA  \\n \\nExperience  \\n \\n● Alstom Bengaluru  \\n(31 March, 2023 - Present)  \\n \\nSKILLS/COMPUTER PROFICIENCY  \\n \\n● Programming Language: Python, Core Java, SQL  \\n● Version Control System: git and GitHub  \\n● Database: MySQL, Oracle Data  Base')]\n"
     ]
    }
   ],
   "source": [
    "docs = clarifai_vector_db.similarity_search(\"Vidit Dhull\")\n",
    "\n",
    "print(docs)"
   ]
  },
  {
   "cell_type": "code",
   "execution_count": 12,
   "id": "23a6d722-1888-4d38-b0c5-93ceba609557",
   "metadata": {},
   "outputs": [],
   "source": [
    "from langchain.llms import Clarifai\n",
    "from langchain.chains import RetrievalQA\n",
    "\n",
    "USER_ID = 'openai'\n",
    "APP_ID = 'chat-completion'\n",
    "MODEL_ID = 'GPT-4'\n",
    "\n",
    "clarifai_llm = Clarifai(\n",
    "    pat=CLARIFAI_PAT, user_id=USER_ID, app_id=APP_ID, model_id=MODEL_ID)\n",
    "\n",
    "qa = RetrievalQA.from_chain_type(\n",
    "    llm=clarifai_llm,\n",
    "    retriever=clarifai_vector_db.as_retriever(),\n",
    "    chain_type=\"stuff\"\n",
    ")"
   ]
  },
  {
   "cell_type": "code",
   "execution_count": 16,
   "id": "dc5e0ff6-ca80-43c5-841b-6ec050b72d11",
   "metadata": {},
   "outputs": [
    {
     "data": {
      "text/plain": [
       "'Vidit Dhull scored 320 out of 340 in GRE.'"
      ]
     },
     "execution_count": 16,
     "metadata": {},
     "output_type": "execute_result"
    }
   ],
   "source": [
    "qa.run(\"How much did Vidit Dhull score in GRE?\")"
   ]
  },
  {
   "cell_type": "code",
   "execution_count": null,
   "id": "a25e29c7-39b6-4395-a0aa-08d9b2a6a585",
   "metadata": {},
   "outputs": [],
   "source": []
  }
 ],
 "metadata": {
  "kernelspec": {
   "display_name": "Python 3 (ipykernel)",
   "language": "python",
   "name": "python3"
  },
  "language_info": {
   "codemirror_mode": {
    "name": "ipython",
    "version": 3
   },
   "file_extension": ".py",
   "mimetype": "text/x-python",
   "name": "python",
   "nbconvert_exporter": "python",
   "pygments_lexer": "ipython3",
   "version": "3.9.16"
  }
 },
 "nbformat": 4,
 "nbformat_minor": 5
}
